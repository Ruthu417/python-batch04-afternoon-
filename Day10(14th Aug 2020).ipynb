{
 "cells": [
  {
   "cell_type": "markdown",
   "metadata": {},
   "source": [
    "### File Handling\n",
    "### Comprehension\n",
    "   - List Comprehension\n",
    "   - Dictionary comprehension"
   ]
  },
  {
   "cell_type": "markdown",
   "metadata": {},
   "source": [
    "#### File Handling\n",
    "- Anything that contains information--called a file\n",
    "- it may be of any type\n",
    "    - txt,img,video,2D etc.\n",
    " - Handling the file\n",
    "     - we can access /modify the data in file\n",
    "     \n",
    "- **file operations**\n",
    "     - open()\n",
    "         - open() file directly\n",
    "         - with open() as reference\n",
    "     - accessing()\n",
    "     - close()"
   ]
  },
  {
   "cell_type": "code",
   "execution_count": 3,
   "metadata": {},
   "outputs": [
    {
     "name": "stdout",
     "output_type": "stream",
     "text": [
      "Hi this is Ruthu\n",
      "I want to open this file\n",
      "at the end I should close the file\n",
      "and these are all the parts of file handling.\n"
     ]
    }
   ],
   "source": [
    "# data.txt\n",
    "data=open('data.txt','r') # open # thought\n",
    "d=data.read() # read operation which reads file and stores it into data\n",
    "print(d) # this displays to the user/programmer"
   ]
  },
  {
   "cell_type": "markdown",
   "metadata": {},
   "source": [
    "#### modes of file\n",
    "- read()\n",
    "    - 'r'\n",
    "    - reads the contents of file\n",
    "- write()\n",
    "     - 'w'\n",
    "     - writes conent into the file and it overwrites the previous data\n",
    "- append()\n",
    "      - 'a'\n",
    "      - add content to the file"
   ]
  },
  {
   "cell_type": "code",
   "execution_count": 6,
   "metadata": {},
   "outputs": [
    {
     "name": "stdout",
     "output_type": "stream",
     "text": [
      "Hi this is Ruthu\n",
      "I want to open this file\n",
      "at the end I should close the file\n",
      "and these are all the parts of file handling.\n",
      "djhfhhkjdkjflkdjfjhdfjhdilufuk\n"
     ]
    }
   ],
   "source": [
    "with open('data.txt','r') as file: # thought\n",
    "    data=file.read() # string/operation/doing\n",
    "print(data)\n",
    "file.close() # "
   ]
  },
  {
   "cell_type": "code",
   "execution_count": 5,
   "metadata": {
    "collapsed": true
   },
   "outputs": [
    {
     "data": {
      "text/plain": [
       "['__add__',\n",
       " '__class__',\n",
       " '__contains__',\n",
       " '__delattr__',\n",
       " '__dir__',\n",
       " '__doc__',\n",
       " '__eq__',\n",
       " '__format__',\n",
       " '__ge__',\n",
       " '__getattribute__',\n",
       " '__getitem__',\n",
       " '__getnewargs__',\n",
       " '__gt__',\n",
       " '__hash__',\n",
       " '__init__',\n",
       " '__init_subclass__',\n",
       " '__iter__',\n",
       " '__le__',\n",
       " '__len__',\n",
       " '__lt__',\n",
       " '__mod__',\n",
       " '__mul__',\n",
       " '__ne__',\n",
       " '__new__',\n",
       " '__reduce__',\n",
       " '__reduce_ex__',\n",
       " '__repr__',\n",
       " '__rmod__',\n",
       " '__rmul__',\n",
       " '__setattr__',\n",
       " '__sizeof__',\n",
       " '__str__',\n",
       " '__subclasshook__',\n",
       " 'capitalize',\n",
       " 'casefold',\n",
       " 'center',\n",
       " 'count',\n",
       " 'encode',\n",
       " 'endswith',\n",
       " 'expandtabs',\n",
       " 'find',\n",
       " 'format',\n",
       " 'format_map',\n",
       " 'index',\n",
       " 'isalnum',\n",
       " 'isalpha',\n",
       " 'isascii',\n",
       " 'isdecimal',\n",
       " 'isdigit',\n",
       " 'isidentifier',\n",
       " 'islower',\n",
       " 'isnumeric',\n",
       " 'isprintable',\n",
       " 'isspace',\n",
       " 'istitle',\n",
       " 'isupper',\n",
       " 'join',\n",
       " 'ljust',\n",
       " 'lower',\n",
       " 'lstrip',\n",
       " 'maketrans',\n",
       " 'partition',\n",
       " 'replace',\n",
       " 'rfind',\n",
       " 'rindex',\n",
       " 'rjust',\n",
       " 'rpartition',\n",
       " 'rsplit',\n",
       " 'rstrip',\n",
       " 'split',\n",
       " 'splitlines',\n",
       " 'startswith',\n",
       " 'strip',\n",
       " 'swapcase',\n",
       " 'title',\n",
       " 'translate',\n",
       " 'upper',\n",
       " 'zfill']"
      ]
     },
     "execution_count": 5,
     "metadata": {},
     "output_type": "execute_result"
    }
   ],
   "source": [
    "dir(str)"
   ]
  },
  {
   "cell_type": "code",
   "execution_count": 14,
   "metadata": {
    "collapsed": true
   },
   "outputs": [
    {
     "ename": "OSError",
     "evalue": "[Errno 22] Invalid argument: 'http://localhost:8888/edit/Documents/SOTP/python%20batch4%20afternoon/data.txt'",
     "output_type": "error",
     "traceback": [
      "\u001b[1;31m---------------------------------------------------------------------------\u001b[0m",
      "\u001b[1;31mOSError\u001b[0m                                   Traceback (most recent call last)",
      "\u001b[1;32m<ipython-input-14-2b11c2612313>\u001b[0m in \u001b[0;36m<module>\u001b[1;34m\u001b[0m\n\u001b[1;32m----> 1\u001b[1;33m \u001b[0mloc\u001b[0m\u001b[1;33m=\u001b[0m\u001b[0mopen\u001b[0m\u001b[1;33m(\u001b[0m\u001b[1;34m'http://localhost:8888/edit/Documents/SOTP/python%20batch4%20afternoon/data.txt'\u001b[0m\u001b[1;33m,\u001b[0m\u001b[1;34m'r'\u001b[0m\u001b[1;33m)\u001b[0m\u001b[1;33m\u001b[0m\u001b[1;33m\u001b[0m\u001b[0m\n\u001b[0m\u001b[0;32m      2\u001b[0m \u001b[0mdata\u001b[0m\u001b[1;33m=\u001b[0m\u001b[0mloc\u001b[0m\u001b[1;33m.\u001b[0m\u001b[0mread\u001b[0m\u001b[1;33m(\u001b[0m\u001b[1;33m)\u001b[0m\u001b[1;33m\u001b[0m\u001b[1;33m\u001b[0m\u001b[0m\n\u001b[0;32m      3\u001b[0m \u001b[0mprint\u001b[0m\u001b[1;33m(\u001b[0m\u001b[0mdata\u001b[0m\u001b[1;33m)\u001b[0m\u001b[1;33m\u001b[0m\u001b[1;33m\u001b[0m\u001b[0m\n",
      "\u001b[1;31mOSError\u001b[0m: [Errno 22] Invalid argument: 'http://localhost:8888/edit/Documents/SOTP/python%20batch4%20afternoon/data.txt'"
     ]
    }
   ],
   "source": [
    "loc=open('http://localhost:8888/edit/Documents/SOTP/python%20batch4%20afternoon/data.txt','r')\n",
    "data=loc.read()\n",
    "print(data)"
   ]
  },
  {
   "cell_type": "code",
   "execution_count": 16,
   "metadata": {},
   "outputs": [],
   "source": [
    "# write mode()\n",
    "w=open('write.txt','w')\n",
    "w.write('I created this file and writing data into it\\nwith this I am twice')\n",
    "w.close()"
   ]
  },
  {
   "cell_type": "code",
   "execution_count": 17,
   "metadata": {},
   "outputs": [],
   "source": [
    "with open('write.txt','w') as w2:\n",
    "    w2.write('Here!\\nI am overwriting the previous data')\n",
    "w2.close()"
   ]
  },
  {
   "cell_type": "code",
   "execution_count": 18,
   "metadata": {},
   "outputs": [],
   "source": [
    "# append mode()\n",
    "a=open('write.txt','a')\n",
    "a.write('I am adding the contents using append mode')\n",
    "a.close()"
   ]
  },
  {
   "cell_type": "markdown",
   "metadata": {},
   "source": [
    "tell()\n",
    "    - tells about the cursor position in file\n",
    "seek()\n",
    "    - moves the cursor to the position"
   ]
  },
  {
   "cell_type": "code",
   "execution_count": 25,
   "metadata": {},
   "outputs": [
    {
     "name": "stdout",
     "output_type": "stream",
     "text": [
      "82\n"
     ]
    }
   ],
   "source": [
    "t=open('write.txt','r')\n",
    "data=t.read()\n",
    "print(t.tell())"
   ]
  },
  {
   "cell_type": "code",
   "execution_count": 26,
   "metadata": {},
   "outputs": [
    {
     "data": {
      "text/plain": [
       "8"
      ]
     },
     "execution_count": 26,
     "metadata": {},
     "output_type": "execute_result"
    }
   ],
   "source": [
    "t.seek(8) # 8th position"
   ]
  },
  {
   "cell_type": "code",
   "execution_count": 27,
   "metadata": {},
   "outputs": [
    {
     "data": {
      "text/plain": [
       "'am overwriting '"
      ]
     },
     "execution_count": 27,
     "metadata": {},
     "output_type": "execute_result"
    }
   ],
   "source": [
    "t.read(15) # first chars from file"
   ]
  },
  {
   "cell_type": "code",
   "execution_count": 38,
   "metadata": {},
   "outputs": [
    {
     "data": {
      "text/plain": [
       "0"
      ]
     },
     "execution_count": 38,
     "metadata": {},
     "output_type": "execute_result"
    }
   ],
   "source": [
    "t.seek(0)"
   ]
  },
  {
   "cell_type": "code",
   "execution_count": 39,
   "metadata": {},
   "outputs": [
    {
     "data": {
      "text/plain": [
       "'Here!\\nI am'"
      ]
     },
     "execution_count": 39,
     "metadata": {},
     "output_type": "execute_result"
    }
   ],
   "source": [
    "t.read(10)"
   ]
  },
  {
   "cell_type": "code",
   "execution_count": 40,
   "metadata": {},
   "outputs": [
    {
     "data": {
      "text/plain": [
       "' overwriti'"
      ]
     },
     "execution_count": 40,
     "metadata": {},
     "output_type": "execute_result"
    }
   ],
   "source": [
    "t.read(10)"
   ]
  },
  {
   "cell_type": "code",
   "execution_count": 41,
   "metadata": {},
   "outputs": [
    {
     "data": {
      "text/plain": [
       "'ng the pre'"
      ]
     },
     "execution_count": 41,
     "metadata": {},
     "output_type": "execute_result"
    }
   ],
   "source": [
    "t.read(10)"
   ]
  },
  {
   "cell_type": "markdown",
   "metadata": {},
   "source": [
    "#### file data processing\n",
    "- access the file\n",
    "- contents there in the file\n",
    "- count the no.of chars/words/lines\n",
    "- special characters\n",
    "- frequency of word in that file"
   ]
  },
  {
   "cell_type": "code",
   "execution_count": 42,
   "metadata": {},
   "outputs": [
    {
     "data": {
      "text/plain": [
       "3"
      ]
     },
     "execution_count": 42,
     "metadata": {},
     "output_type": "execute_result"
    }
   ],
   "source": [
    "# frequency of word in file\n",
    "def word_frequency(word,filename):\n",
    "    data=open('write.txt','r')\n",
    "    file=data.read()\n",
    "    return file.count(word)\n",
    "\n",
    "word_frequency('I am','write.txt')\n",
    "    "
   ]
  },
  {
   "cell_type": "code",
   "execution_count": 43,
   "metadata": {},
   "outputs": [],
   "source": [
    "# count the no.of unique words in that file"
   ]
  },
  {
   "cell_type": "code",
   "execution_count": 45,
   "metadata": {},
   "outputs": [
    {
     "name": "stdout",
     "output_type": "stream",
     "text": [
      "No.of alphabets: 92\n",
      "No.of words: 22\n",
      "No.of lines 4\n",
      "No.of special characters: 4\n"
     ]
    }
   ],
   "source": [
    "# count the no.of chars,words,lines and special 4\n",
    "def count_all(file):\n",
    "    chars=words=lines=specials=0\n",
    "    with open('write.txt','r') as file:\n",
    "        data=file.read() # string\n",
    "    for each in data:\n",
    "        if each.isalpha(): # string methods\n",
    "            chars+=1\n",
    "        elif each.isspace():\n",
    "            words+=1\n",
    "        else:\n",
    "            specials+=1\n",
    "    print('No.of alphabets:',chars)\n",
    "    print('No.of words:',words+1)\n",
    "    print('No.of lines',data.count('\\n')+1)\n",
    "    print('No.of special characters:',specials)\n",
    "    \n",
    "count_all('write.txt')"
   ]
  },
  {
   "cell_type": "markdown",
   "metadata": {},
   "source": [
    "#### readlines \n",
    "- our file wil result in a list of lines "
   ]
  },
  {
   "cell_type": "code",
   "execution_count": 49,
   "metadata": {},
   "outputs": [
    {
     "name": "stdout",
     "output_type": "stream",
     "text": [
      "[\"'Here!\\n\", 'I am overwriting the previous data,\\n', 'I am adding the contents @ append mode\\n', \"Now I am doing file data processing.'\"]\n"
     ]
    }
   ],
   "source": [
    "lines=open('write.txt','r')\n",
    "data=lines.readlines()\n",
    "print(data)"
   ]
  },
  {
   "cell_type": "code",
   "execution_count": 54,
   "metadata": {
    "collapsed": true
   },
   "outputs": [
    {
     "name": "stdout",
     "output_type": "stream",
     "text": [
      "'Here!\n",
      "I am overwriting the previous data,\n",
      "I am adding the contents @ append mode\n",
      "Now I am doing file data processing.'\n"
     ]
    }
   ],
   "source": [
    "lines=open('write.txt','r')\n",
    "data=lines.read()\n",
    "for each in data.split('\\n'):\n",
    "    print(each)"
   ]
  },
  {
   "cell_type": "code",
   "execution_count": 55,
   "metadata": {},
   "outputs": [],
   "source": [
    "# add line by line content of the file into a new list"
   ]
  },
  {
   "cell_type": "markdown",
   "metadata": {},
   "source": [
    "### Comprehension\n",
    "- describing the thing in a short form/simple sentences\n",
    "- list\n",
    "    - we are shorting the list\n",
    "- dictionary\n",
    "    - shortening the dictionary\n",
    "- syntax:\n",
    "    - [output,input,condition]"
   ]
  },
  {
   "cell_type": "code",
   "execution_count": 57,
   "metadata": {},
   "outputs": [
    {
     "data": {
      "text/plain": [
       "[1, 4, 9, 16, 25, 36, 49, 64, 81, 100]"
      ]
     },
     "execution_count": 57,
     "metadata": {},
     "output_type": "execute_result"
    }
   ],
   "source": [
    "# prepare a list of square values of no.s from 1 to 10\n",
    "nums=[] # output\n",
    "for num in range(1,11): # input()\n",
    "    nums.append(num**2)\n",
    "nums #condition"
   ]
  },
  {
   "cell_type": "code",
   "execution_count": 60,
   "metadata": {},
   "outputs": [
    {
     "data": {
      "text/plain": [
       "[1, 4, 9, 16, 25, 36, 49, 64, 81, 100]"
      ]
     },
     "execution_count": 60,
     "metadata": {},
     "output_type": "execute_result"
    }
   ],
   "source": [
    "sqrs=[num*num for num in range(1,11)]\n",
    "sqrs"
   ]
  },
  {
   "cell_type": "code",
   "execution_count": 59,
   "metadata": {
    "collapsed": true
   },
   "outputs": [
    {
     "name": "stdout",
     "output_type": "stream",
     "text": [
      "1\n",
      "4\n",
      "9\n",
      "16\n",
      "25\n",
      "36\n",
      "49\n",
      "64\n",
      "81\n",
      "100\n"
     ]
    }
   ],
   "source": [
    "squars=[print(num*num) for num in range(1,11)]"
   ]
  },
  {
   "cell_type": "code",
   "execution_count": 61,
   "metadata": {
    "collapsed": true
   },
   "outputs": [
    {
     "name": "stdout",
     "output_type": "stream",
     "text": [
      "Hi I am python trainer in APSSDC\n"
     ]
    },
    {
     "data": {
      "text/plain": [
       "['H',\n",
       " 'i',\n",
       " ' ',\n",
       " 'I',\n",
       " ' ',\n",
       " 'a',\n",
       " 'm',\n",
       " ' ',\n",
       " 'p',\n",
       " 'y',\n",
       " 't',\n",
       " 'h',\n",
       " 'o',\n",
       " 'n',\n",
       " ' ',\n",
       " 't',\n",
       " 'r',\n",
       " 'a',\n",
       " 'i',\n",
       " 'n',\n",
       " 'e',\n",
       " 'r',\n",
       " ' ',\n",
       " 'i',\n",
       " 'n',\n",
       " ' ',\n",
       " 'A',\n",
       " 'P',\n",
       " 'S',\n",
       " 'S',\n",
       " 'D',\n",
       " 'C']"
      ]
     },
     "execution_count": 61,
     "metadata": {},
     "output_type": "execute_result"
    }
   ],
   "source": [
    "# prepare a list of chars present in a string(dynamic) by using list comprehension\n",
    "st=input()\n",
    "chrs=[]\n",
    "for ch in st:\n",
    "    chrs.append(ch)\n",
    "chrs"
   ]
  },
  {
   "cell_type": "code",
   "execution_count": 62,
   "metadata": {},
   "outputs": [
    {
     "name": "stdout",
     "output_type": "stream",
     "text": [
      "Enter string:Hi I am Ruthu\n"
     ]
    },
    {
     "data": {
      "text/plain": [
       "['H', 'i', ' ', 'I', ' ', 'a', 'm', ' ', 'R', 'u', 't', 'h', 'u']"
      ]
     },
     "execution_count": 62,
     "metadata": {},
     "output_type": "execute_result"
    }
   ],
   "source": [
    "#[o/p i/p condition]\n",
    "chrs=[ch for ch in input('Enter string:')]\n",
    "chrs"
   ]
  },
  {
   "cell_type": "code",
   "execution_count": 64,
   "metadata": {},
   "outputs": [],
   "source": [
    "# print the multiplication table using list comprehension"
   ]
  },
  {
   "cell_type": "markdown",
   "metadata": {},
   "source": [
    "#### Dictionary comprehension\n",
    "- {key:value}"
   ]
  },
  {
   "cell_type": "code",
   "execution_count": 66,
   "metadata": {
    "collapsed": true
   },
   "outputs": [
    {
     "data": {
      "text/plain": [
       "{20: 8000,\n",
       " 22: 10648,\n",
       " 24: 13824,\n",
       " 26: 17576,\n",
       " 28: 21952,\n",
       " 30: 27000,\n",
       " 32: 32768,\n",
       " 34: 39304,\n",
       " 36: 46656,\n",
       " 38: 54872,\n",
       " 40: 64000}"
      ]
     },
     "execution_count": 66,
     "metadata": {},
     "output_type": "execute_result"
    }
   ],
   "source": [
    "# prepare a dictionary of cubes values of even no.s present in range\n",
    "# 20--90\n",
    "cubes={}\n",
    "for num in range(20,41):\n",
    "    if(num%2) is 0:\n",
    "        cubes[num]=num**3\n",
    "cubes"
   ]
  },
  {
   "cell_type": "code",
   "execution_count": 67,
   "metadata": {
    "collapsed": true
   },
   "outputs": [
    {
     "name": "stdout",
     "output_type": "stream",
     "text": [
      "10\n",
      "21\n"
     ]
    },
    {
     "data": {
      "text/plain": [
       "{10: 1000, 12: 1728, 14: 2744, 16: 4096, 18: 5832, 20: 8000}"
      ]
     },
     "execution_count": 67,
     "metadata": {},
     "output_type": "execute_result"
    }
   ],
   "source": [
    "# dictionary comprehension\n",
    "dic={num:num**3 for num in range(int(input()),int(input())+1) if num%2==0}\n",
    "dic"
   ]
  },
  {
   "cell_type": "code",
   "execution_count": 68,
   "metadata": {
    "collapsed": true
   },
   "outputs": [
    {
     "name": "stdout",
     "output_type": "stream",
     "text": [
      "this is online training program\n"
     ]
    },
    {
     "data": {
      "text/plain": [
       "{'i': 105, 's': 115, 'o': 111, 'e': 101, 'a': 97, 'g': 103, 'm': 109}"
      ]
     },
     "execution_count": 68,
     "metadata": {},
     "output_type": "execute_result"
    }
   ],
   "source": [
    "# {chars present in a string whose ascii values are odd}\n",
    "chars={}\n",
    "st=input()\n",
    "for ch in st:\n",
    "    if ord(ch)%2==1:\n",
    "        chars[ch]=ord(ch)\n",
    "chars"
   ]
  },
  {
   "cell_type": "code",
   "execution_count": null,
   "metadata": {},
   "outputs": [],
   "source": [
    "# do the above task by using dict comprehension\n",
    "d={i:ord(i) for i in input() if(ord(i)%2==1)}\n",
    "print(d)"
   ]
  },
  {
   "cell_type": "code",
   "execution_count": null,
   "metadata": {},
   "outputs": [],
   "source": []
  }
 ],
 "metadata": {
  "kernelspec": {
   "display_name": "Python 3",
   "language": "python",
   "name": "python3"
  },
  "language_info": {
   "codemirror_mode": {
    "name": "ipython",
    "version": 3
   },
   "file_extension": ".py",
   "mimetype": "text/x-python",
   "name": "python",
   "nbconvert_exporter": "python",
   "pygments_lexer": "ipython3",
   "version": "3.7.6"
  }
 },
 "nbformat": 4,
 "nbformat_minor": 4
}
